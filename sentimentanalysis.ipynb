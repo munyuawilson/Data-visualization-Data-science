{
  "cells": [
    {
      "cell_type": "markdown",
      "metadata": {
        "id": "view-in-github",
        "colab_type": "text"
      },
      "source": [
        "<a href=\"https://colab.research.google.com/github/munyuawilson/Data-visualization-Data-science/blob/main/sentimentanalysis.ipynb\" target=\"_parent\"><img src=\"https://colab.research.google.com/assets/colab-badge.svg\" alt=\"Open In Colab\"/></a>"
      ]
    },
    {
      "cell_type": "markdown",
      "metadata": {
        "id": "nqhtRIF-HhI1"
      },
      "source": []
    },
    {
      "cell_type": "markdown",
      "metadata": {
        "id": "uadOmTZNHkKw"
      },
      "source": [
        "**Sentiment Analysis**\n",
        "\n",
        "This is a sentiment analysis of tweets. \n"
      ]
    },
    {
      "cell_type": "markdown",
      "metadata": {
        "id": "asFYwivdIbD-"
      },
      "source": [
        "**Loading the Libraries**"
      ]
    },
    {
      "cell_type": "code",
      "execution_count": 5,
      "metadata": {
        "colab": {
          "base_uri": "https://localhost:8080/"
        },
        "id": "z5wqyVaoIaDg",
        "outputId": "86fb251e-bc39-4532-9578-9a11f012af24"
      },
      "outputs": [
        {
          "output_type": "stream",
          "name": "stdout",
          "text": [
            "Looking in indexes: https://pypi.org/simple, https://us-python.pkg.dev/colab-wheels/public/simple/\n",
            "Requirement already satisfied: textblob in /usr/local/lib/python3.8/dist-packages (0.15.3)\n",
            "Requirement already satisfied: nltk>=3.1 in /usr/local/lib/python3.8/dist-packages (from textblob) (3.7)\n",
            "Requirement already satisfied: tqdm in /usr/local/lib/python3.8/dist-packages (from nltk>=3.1->textblob) (4.64.1)\n",
            "Requirement already satisfied: regex>=2021.8.3 in /usr/local/lib/python3.8/dist-packages (from nltk>=3.1->textblob) (2022.6.2)\n",
            "Requirement already satisfied: click in /usr/local/lib/python3.8/dist-packages (from nltk>=3.1->textblob) (7.1.2)\n",
            "Requirement already satisfied: joblib in /usr/local/lib/python3.8/dist-packages (from nltk>=3.1->textblob) (1.2.0)\n",
            "Mounted at /content/drive\n"
          ]
        }
      ],
      "source": [
        "\n",
        "%pip install textblob \n",
        "import nltk\n",
        "import numpy as np\n",
        "from textblob import TextBlob\n",
        "import pandas as pd\n",
        "import matplotlib.pyplot as plt\n",
        "from sklearn.model_selection import train_test_split\n",
        "from sklearn.feature_extraction.text import CountVectorizer\n",
        "from sklearn.linear_model import LogisticRegression\n",
        "\n",
        "from google.colab import files\n",
        "from google.colab import drive\n",
        "drive.mount('/content/drive')"
      ]
    },
    {
      "cell_type": "markdown",
      "metadata": {
        "id": "e4-iWcXAIM3i"
      },
      "source": [
        "**Loading the dataset**"
      ]
    },
    {
      "cell_type": "code",
      "execution_count": 6,
      "metadata": {
        "id": "TAzyC3wbIC_v"
      },
      "outputs": [],
      "source": [
        "data=pd.read_csv('/content/drive/MyDrive/Twitter_Data.csv')\n",
        "#if implementing it offline use\n",
        "#data=pd.read_csv(\"Twitter_Data.csv\")\n",
        "#remove the category column so as to do a fresh analysis\n",
        "data=data.clean_text\n",
        "\n",
        "data=pd.DataFrame(data)\n",
        "data=data.head(100)"
      ]
    },
    {
      "cell_type": "markdown",
      "metadata": {
        "id": "gmVlrlGUPM8j"
      },
      "source": [
        "**Remove stopwords**"
      ]
    },
    {
      "cell_type": "code",
      "execution_count": 7,
      "metadata": {
        "colab": {
          "base_uri": "https://localhost:8080/"
        },
        "id": "hioNB5vAPR8i",
        "outputId": "ffc2ea97-5780-4316-bda3-1ed24989076e"
      },
      "outputs": [
        {
          "output_type": "stream",
          "name": "stderr",
          "text": [
            "[nltk_data] Downloading package stopwords to /root/nltk_data...\n",
            "[nltk_data]   Unzipping corpora/stopwords.zip.\n",
            "[nltk_data] Downloading package punkt to /root/nltk_data...\n",
            "[nltk_data]   Unzipping tokenizers/punkt.zip.\n"
          ]
        }
      ],
      "source": [
        "\n",
        "nltk.download('stopwords')\n",
        "nltk.download('punkt')\n",
        "from nltk.corpus import stopwords\n",
        "from nltk.tokenize import word_tokenize\n",
        "stop_words = stopwords.words('english')\n",
        "\n",
        "#Filtering stop words\n",
        "\n",
        "data['tweet_without_stopwords'] = data[\"clean_text\"].apply(lambda x: ' '.join([word for word in x.split() if word not in (stop_words)]))\n",
        "\n",
        "filtered_data=pd.DataFrame(data['tweet_without_stopwords'])"
      ]
    },
    {
      "cell_type": "markdown",
      "metadata": {
        "id": "m_AXXcyLMKZS"
      },
      "source": [
        "**Sentiment analysis**"
      ]
    },
    {
      "cell_type": "code",
      "execution_count": 9,
      "metadata": {
        "colab": {
          "base_uri": "https://localhost:8080/",
          "height": 279
        },
        "id": "DmhAhITCMPHR",
        "outputId": "0538a70a-229d-4369-b854-723422fe0bbe"
      },
      "outputs": [
        {
          "output_type": "display_data",
          "data": {
            "text/plain": [
              "<Figure size 432x288 with 1 Axes>"
            ],
            "image/png": "[encoded data removed]"
          },
          "metadata": {
            "needs_background": "light"
          }
        }
      ],
      "source": [
        "\n",
        "sentiment_list=[]\n",
        "for f in filtered_data.tweet_without_stopwords:\n",
        "  sentiment=TextBlob(f).sentiment.polarity\n",
        "  if sentiment > 0:\n",
        "    sentiment_list.append(1)\n",
        "    #positive\n",
        "  elif sentiment < 0:\n",
        "    sentiment_list.append(-1)\n",
        "    #negative\n",
        "  else:\n",
        "    sentiment_list.append(0)\n",
        "    #neutral\n",
        "filtered_data[\"sentiments\"]=sentiment_list\n",
        "\n",
        "plt.scatter(filtered_data.head(20).tweet_without_stopwords,filtered_data.head(20).sentiments)\n",
        "plt.xlabel(\"Words\")\n",
        "plt.ylabel(\"Sentiments\")\n",
        "\n",
        "plt.savefig(\"graph.png\")"
      ]
    },
    {
      "cell_type": "markdown",
      "metadata": {
        "id": "J023FJ3neT-4"
      },
      "source": [
        "**Machine Learning Model**"
      ]
    },
    {
      "cell_type": "code",
      "execution_count": 10,
      "metadata": {
        "colab": {
          "base_uri": "https://localhost:8080/"
        },
        "id": "VEj5WaXweYvV",
        "outputId": "856daba2-9356-4746-d8e4-3cddf83f949e"
      },
      "outputs": [
        {
          "output_type": "stream",
          "name": "stdout",
          "text": [
            "0.6\n"
          ]
        }
      ],
      "source": [
        "X=filtered_data.tweet_without_stopwords\n",
        "y=filtered_data.sentiments\n",
        "\n",
        "filtered_train,filtered_test,y_train,y_test=train_test_split(X,y,test_size=0.2)\n",
        "\n",
        "#use Bag of Words to convert the text data into numerical data\n",
        "vectorizer=CountVectorizer()\n",
        "vectorizer.fit(filtered_train)\n",
        "x_train=vectorizer.transform(filtered_train)\n",
        "x_test=vectorizer.transform(filtered_test)\n",
        "\n",
        "#Training\n",
        "model=LogisticRegression()\n",
        "\n",
        "model.fit(x_train,y_train)\n",
        "#Accuracy score\n",
        "score=model.score(x_test,y_test)\n",
        "\n",
        "print(score)\n",
        "  \n",
        "\n",
        "\n",
        "\n"
      ]
    }
  ],
  "metadata": {
    "colab": {
      "provenance": [],
      "authorship_tag": "ABX9TyOIUjDzuAtNwrz/pQfjSfO5",
      "include_colab_link": true
    },
    "kernelspec": {
      "display_name": "Python 3",
      "name": "python3"
    },
    "language_info": {
      "name": "python"
    }
  },
  "nbformat": 4,
  "nbformat_minor": 0
}